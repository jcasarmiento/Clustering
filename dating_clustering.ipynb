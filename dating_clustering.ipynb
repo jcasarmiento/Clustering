{
 "cells": [
  {
   "attachments": {},
   "cell_type": "markdown",
   "metadata": {},
   "source": [
    "# Clustering on speed dating dataset\n",
    "\n",
    "Dataset taken from https://www.kaggle.com/datasets/ulrikthygepedersen/speed-dating"
   ]
  },
  {
   "cell_type": "code",
   "execution_count": 1,
   "metadata": {},
   "outputs": [],
   "source": [
    "import numpy as np\n",
    "import pandas as pd\n",
    "import seaborn as sns\n",
    "import matplotlib.pyplot as plt"
   ]
  },
  {
   "attachments": {},
   "cell_type": "markdown",
   "metadata": {},
   "source": [
    "All of the data transformations done in the next cells are taken from a previous exercise with this dataset: https://github.com/jcasarmiento/CrossValidation"
   ]
  },
  {
   "cell_type": "code",
   "execution_count": 18,
   "metadata": {},
   "outputs": [],
   "source": [
    "df=pd.read_csv(\"speeddating.csv\",header=0)\n",
    "df=df.drop([\"expected_num_interested_in_me\",\"expected_num_matches\",\"shared_interests_o\",\"shared_interests_partner\",\"ambitous_o\",\"ambition_partner\"],axis=1)\n",
    "df=df.dropna(how=\"any\")\n",
    "to_drop=[\"has_null\",\"wave\",\"d_age\",\"d_d_age\",\"samerace\",\"d_importance_same_race\",\"d_importance_same_religion\",\"d_pref_o_attractive\",\"d_pref_o_sincere\",\\\n",
    "        \"d_pref_o_intelligence\",\"d_pref_o_funny\",\"d_pref_o_ambitious\",\"d_pref_o_shared_interests\",\"d_attractive_o\",\"d_sinsere_o\",\"d_intelligence_o\",\\\n",
    "        \"d_funny_o\",\"d_ambitous_o\",\"d_shared_interests_o\",\"d_attractive_important\",\"d_sincere_important\",\"d_intellicence_important\",\"d_funny_important\",\\\n",
    "        \"d_ambtition_important\",\"d_shared_interests_important\",\"d_attractive\",\"d_sincere\",\"d_intelligence\",\"d_funny\",\"d_ambition\",\"d_attractive_partner\",\\\n",
    "        \"d_sincere_partner\",\"d_intelligence_partner\",\"d_funny_partner\",\"d_ambition_partner\",\"d_shared_interests_partner\",\"d_sports\",\"d_tvsports\",\"d_exercise\",\\\n",
    "        \"d_dining\",\"d_museums\",\"d_art\",\"d_hiking\",\"d_gaming\",\"d_clubbing\",\"d_reading\",\"d_tv\",\"d_theater\",\"d_movies\",\"d_concerts\",\"d_music\",\"d_shopping\",\"d_yoga\",\\\n",
    "        \"d_interests_correlate\",\"expected_happy_with_sd_people\",\"d_expected_num_interested_in_me\",\"d_expected_num_matches\",\"like\",\"guess_prob_liked\",\"d_like\",\\\n",
    "        \"d_guess_prob_liked\",\"met\",\"decision\",\"decision_o\"]\n",
    "df=df.drop(to_drop,axis=1)\n",
    "y = df.pop('match')  # labels correspond to column match\n",
    "df = pd.get_dummies(df,drop_first=True)  #data is rest of columns and there is still categorical colums"
   ]
  },
  {
   "cell_type": "code",
   "execution_count": 19,
   "metadata": {},
   "outputs": [
    {
     "data": {
      "text/plain": [
       "((7079,), pandas.core.series.Series, (7079, 313), pandas.core.frame.DataFrame)"
      ]
     },
     "execution_count": 19,
     "metadata": {},
     "output_type": "execute_result"
    }
   ],
   "source": [
    "y.shape,type(y),df.shape,type(df)"
   ]
  },
  {
   "cell_type": "code",
   "execution_count": 20,
   "metadata": {},
   "outputs": [
    {
     "data": {
      "text/plain": [
       "array([[-1.51065932,  0.19618885, -0.62941637, ..., -0.04289285,\n",
       "        -0.98890181, -0.61615995],\n",
       "       [-1.51065932, -1.23913653, -0.62941637, ..., -0.04289285,\n",
       "        -0.98890181, -0.61615995],\n",
       "       [-1.51065932, -0.95207146, -0.62941637, ..., -0.04289285,\n",
       "        -0.98890181, -0.61615995],\n",
       "       ...,\n",
       "       [-0.37112527, -0.66500638, -0.98247806, ..., -0.04289285,\n",
       "        -0.98890181,  1.6229552 ],\n",
       "       [-0.37112527, -1.23913653, -0.98247806, ..., -0.04289285,\n",
       "        -0.98890181,  1.6229552 ],\n",
       "       [-0.37112527, -1.23913653, -0.98247806, ..., -0.04289285,\n",
       "        -0.98890181,  1.6229552 ]])"
      ]
     },
     "execution_count": 20,
     "metadata": {},
     "output_type": "execute_result"
    }
   ],
   "source": [
    "from sklearn.preprocessing import StandardScaler\n",
    "\n",
    "scaler=StandardScaler()\n",
    "X=scaler.fit_transform(df)\n",
    "X"
   ]
  },
  {
   "cell_type": "code",
   "execution_count": 21,
   "metadata": {},
   "outputs": [
    {
     "data": {
      "image/png": "[encoded data removed]",
      "text/plain": [
       "<Figure size 640x480 with 1 Axes>"
      ]
     },
     "metadata": {},
     "output_type": "display_data"
    }
   ],
   "source": [
    "from sklearn.cluster import KMeans\n",
    "\n",
    "WSS = []\n",
    "for k in range(1,10,1):\n",
    "    k_means=KMeans(n_clusters=k, random_state=0,n_init=10)\n",
    "    k_means.fit(X)\n",
    "    WSS.append(k_means.inertia_)\n",
    "\n",
    "plt.plot(range(1,10,1), WSS)\n",
    "plt.title('Elbow Method')\n",
    "plt.xlabel('Number of clusters')\n",
    "plt.ylabel('WSS')\n",
    "plt.show()"
   ]
  },
  {
   "attachments": {},
   "cell_type": "markdown",
   "metadata": {},
   "source": [
    "For K-means, optimal k is between 2 and 3"
   ]
  },
  {
   "cell_type": "code",
   "execution_count": 26,
   "metadata": {},
   "outputs": [
    {
     "data": {
      "text/html": [
       "<style>#sk-container-id-3 {color: black;background-color: white;}#sk-container-id-3 pre{padding: 0;}#sk-container-id-3 div.sk-toggleable {background-color: white;}#sk-container-id-3 label.sk-toggleable__label {cursor: pointer;display: block;width: 100%;margin-bottom: 0;padding: 0.3em;box-sizing: border-box;text-align: center;}#sk-container-id-3 label.sk-toggleable__label-arrow:before {content: \"▸\";float: left;margin-right: 0.25em;color: #696969;}#sk-container-id-3 label.sk-toggleable__label-arrow:hover:before {color: black;}#sk-container-id-3 div.sk-estimator:hover label.sk-toggleable__label-arrow:before {color: black;}#sk-container-id-3 div.sk-toggleable__content {max-height: 0;max-width: 0;overflow: hidden;text-align: left;background-color: #f0f8ff;}#sk-container-id-3 div.sk-toggleable__content pre {margin: 0.2em;color: black;border-radius: 0.25em;background-color: #f0f8ff;}#sk-container-id-3 input.sk-toggleable__control:checked~div.sk-toggleable__content {max-height: 200px;max-width: 100%;overflow: auto;}#sk-container-id-3 input.sk-toggleable__control:checked~label.sk-toggleable__label-arrow:before {content: \"▾\";}#sk-container-id-3 div.sk-estimator input.sk-toggleable__control:checked~label.sk-toggleable__label {background-color: #d4ebff;}#sk-container-id-3 div.sk-label input.sk-toggleable__control:checked~label.sk-toggleable__label {background-color: #d4ebff;}#sk-container-id-3 input.sk-hidden--visually {border: 0;clip: rect(1px 1px 1px 1px);clip: rect(1px, 1px, 1px, 1px);height: 1px;margin: -1px;overflow: hidden;padding: 0;position: absolute;width: 1px;}#sk-container-id-3 div.sk-estimator {font-family: monospace;background-color: #f0f8ff;border: 1px dotted black;border-radius: 0.25em;box-sizing: border-box;margin-bottom: 0.5em;}#sk-container-id-3 div.sk-estimator:hover {background-color: #d4ebff;}#sk-container-id-3 div.sk-parallel-item::after {content: \"\";width: 100%;border-bottom: 1px solid gray;flex-grow: 1;}#sk-container-id-3 div.sk-label:hover label.sk-toggleable__label {background-color: #d4ebff;}#sk-container-id-3 div.sk-serial::before {content: \"\";position: absolute;border-left: 1px solid gray;box-sizing: border-box;top: 0;bottom: 0;left: 50%;z-index: 0;}#sk-container-id-3 div.sk-serial {display: flex;flex-direction: column;align-items: center;background-color: white;padding-right: 0.2em;padding-left: 0.2em;position: relative;}#sk-container-id-3 div.sk-item {position: relative;z-index: 1;}#sk-container-id-3 div.sk-parallel {display: flex;align-items: stretch;justify-content: center;background-color: white;position: relative;}#sk-container-id-3 div.sk-item::before, #sk-container-id-3 div.sk-parallel-item::before {content: \"\";position: absolute;border-left: 1px solid gray;box-sizing: border-box;top: 0;bottom: 0;left: 50%;z-index: -1;}#sk-container-id-3 div.sk-parallel-item {display: flex;flex-direction: column;z-index: 1;position: relative;background-color: white;}#sk-container-id-3 div.sk-parallel-item:first-child::after {align-self: flex-end;width: 50%;}#sk-container-id-3 div.sk-parallel-item:last-child::after {align-self: flex-start;width: 50%;}#sk-container-id-3 div.sk-parallel-item:only-child::after {width: 0;}#sk-container-id-3 div.sk-dashed-wrapped {border: 1px dashed gray;margin: 0 0.4em 0.5em 0.4em;box-sizing: border-box;padding-bottom: 0.4em;background-color: white;}#sk-container-id-3 div.sk-label label {font-family: monospace;font-weight: bold;display: inline-block;line-height: 1.2em;}#sk-container-id-3 div.sk-label-container {text-align: center;}#sk-container-id-3 div.sk-container {/* jupyter's `normalize.less` sets `[hidden] { display: none; }` but bootstrap.min.css set `[hidden] { display: none !important; }` so we also need the `!important` here to be able to override the default hidden behavior on the sphinx rendered scikit-learn.org. See: https://github.com/scikit-learn/scikit-learn/issues/21755 */display: inline-block !important;position: relative;}#sk-container-id-3 div.sk-text-repr-fallback {display: none;}</style><div id=\"sk-container-id-3\" class=\"sk-top-container\"><div class=\"sk-text-repr-fallback\"><pre>KMeans(n_clusters=2, n_init=10, random_state=0)</pre><b>In a Jupyter environment, please rerun this cell to show the HTML representation or trust the notebook. <br />On GitHub, the HTML representation is unable to render, please try loading this page with nbviewer.org.</b></div><div class=\"sk-container\" hidden><div class=\"sk-item\"><div class=\"sk-estimator sk-toggleable\"><input class=\"sk-toggleable__control sk-hidden--visually\" id=\"sk-estimator-id-3\" type=\"checkbox\" checked><label for=\"sk-estimator-id-3\" class=\"sk-toggleable__label sk-toggleable__label-arrow\">KMeans</label><div class=\"sk-toggleable__content\"><pre>KMeans(n_clusters=2, n_init=10, random_state=0)</pre></div></div></div></div></div>"
      ],
      "text/plain": [
       "KMeans(n_clusters=2, n_init=10, random_state=0)"
      ]
     },
     "execution_count": 26,
     "metadata": {},
     "output_type": "execute_result"
    }
   ],
   "source": [
    "k_means=KMeans(n_clusters=2, random_state=0,n_init=10)\n",
    "k_means.fit(X)"
   ]
  },
  {
   "cell_type": "code",
   "execution_count": 27,
   "metadata": {},
   "outputs": [
    {
     "name": "stdout",
     "output_type": "stream",
     "text": [
      "<class 'pandas.core.frame.DataFrame'>\n",
      "RangeIndex: 2 entries, 0 to 1\n",
      "Columns: 313 entries, age to d_expected_happy_with_sd_people_b'[7-10]'\n",
      "dtypes: float64(313)\n",
      "memory usage: 5.0 KB\n"
     ]
    }
   ],
   "source": [
    "centroids=k_means.cluster_centers_\n",
    "df_centroids=pd.DataFrame(centroids,columns=df.columns)\n",
    "df_centroids.info()"
   ]
  },
  {
   "cell_type": "code",
   "execution_count": 29,
   "metadata": {},
   "outputs": [
    {
     "data": {
      "text/plain": [
       "array([0, 0, 0, ..., 0, 0, 0])"
      ]
     },
     "execution_count": 29,
     "metadata": {},
     "output_type": "execute_result"
    }
   ],
   "source": [
    "k_means.labels_"
   ]
  },
  {
   "cell_type": "code",
   "execution_count": 31,
   "metadata": {},
   "outputs": [],
   "source": [
    "y=pd.get_dummies(y,drop_first=True)"
   ]
  },
  {
   "cell_type": "code",
   "execution_count": 33,
   "metadata": {},
   "outputs": [
    {
     "data": {
      "text/plain": [
       "(array([[2967, 2878],\n",
       "        [ 571,  663]], dtype=int64),\n",
       " 0.017227805304637068)"
      ]
     },
     "execution_count": 33,
     "metadata": {},
     "output_type": "execute_result"
    }
   ],
   "source": [
    "from sklearn.metrics import confusion_matrix,silhouette_score\n",
    "\n",
    "confusion_matrix(y,k_means.labels_),silhouette_score(X,k_means.labels_)"
   ]
  },
  {
   "cell_type": "code",
   "execution_count": null,
   "metadata": {},
   "outputs": [],
   "source": []
  }
 ],
 "metadata": {
  "kernelspec": {
   "display_name": "data_science_conda",
   "language": "python",
   "name": "data_science_conda"
  },
  "language_info": {
   "codemirror_mode": {
    "name": "ipython",
    "version": 3
   },
   "file_extension": ".py",
   "mimetype": "text/x-python",
   "name": "python",
   "nbconvert_exporter": "python",
   "pygments_lexer": "ipython3",
   "version": "3.9.16"
  },
  "orig_nbformat": 4
 },
 "nbformat": 4,
 "nbformat_minor": 2
}
